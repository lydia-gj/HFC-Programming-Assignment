{
 "cells": [
  {
   "cell_type": "markdown",
   "metadata": {},
   "source": [
    "Create a class called Design with (at least) the following attributes: lower left x, lower left y, upper right x, upper right y, polygon count, md5sum, area, and density (polygons per mm^2)\n",
    "Create a class called Library that will store all of the instances of the Design class- you can choose how to store it.\n",
    "Create a method for the Library class that will print the names of all designs ordered by density (high to low).\n",
    "Read in the test data, create an instance of design for each row, and store each Design instance into one instance of Library.\n",
    "Finally, call the Library method that prints the ordered density. \n",
    "\n",
    "Input data has coordinates in micrometers (microns), desnity is in mm^2"
   ]
  },
  {
   "cell_type": "code",
   "execution_count": 1,
   "metadata": {},
   "outputs": [
    {
     "name": "stdout",
     "output_type": "stream",
     "text": [
      "Peekskill\n",
      "Dutchess\n",
      "Chadwick\n",
      "Tomahawk\n",
      "Glenmere\n",
      "Round\n",
      "Oscawana\n",
      "Beacon\n",
      "Walton\n"
     ]
    }
   ],
   "source": [
    "\n",
    "import csv\n",
    "\n",
    "class Design:\n",
    "    \n",
    "     # Initialize the variables\n",
    "    def __init__(self, name, llx, lly, urx, ury, polygon_count, md5sum, area, density):\n",
    " \n",
    "        # Instance Variable\n",
    "        self.name = name\n",
    "        self.llx = llx\n",
    "        self.lly = lly\n",
    "        self.urx = urx\n",
    "        self.ury = ury\n",
    "        self.polygon_count = polygon_count\n",
    "        self.md5sum = md5sum\n",
    "        self.area = area\n",
    "        self.density = density\n",
    "\n",
    "class Library:\n",
    "    #This class stores all instances of the Design class\n",
    "    designs = []\n",
    "    def add_design(self, d):#take a design object and add it to the list#\n",
    "        self.designs.append(d)\n",
    "\n",
    "    def show(self): \n",
    "        for des in sorted(self.designs, reverse=True, key=lambda design:design.density): \n",
    "            print(des.name)\n",
    "        \n",
    "        \n",
    "lib = Library()\n",
    "with open(\"testdata.txt\", 'r', encoding=\"utf-16\") as csv_file:\n",
    "    csv_reader = csv.reader(csv_file, delimiter='\\t')\n",
    "    # the below statement will skip the first row\n",
    "    next(csv_reader,None)\n",
    "    \n",
    "    for line in csv_reader:\n",
    "        name = line[0]\n",
    "        llx = int(line[1])\n",
    "        lly = int(line[2])\n",
    "        urx = int(line[3])\n",
    "        ury = int(line[4])\n",
    "        polygon_count = int(line[5])\n",
    "        md5sum = line[6]\n",
    "        area = ((urx - llx)*10**-3)*((ury - lly)*10**-3) #convert microns to mm^2\n",
    "        density = polygon_count / area #polygons per mm^2\n",
    "\n",
    "        d = Design(name, llx, lly, urx, ury, polygon_count, md5sum, area, density)\n",
    "        lib.add_design(d) #saves all objects in library\n",
    "    lib.show()\n",
    "    \n"
   ]
  },
  {
   "cell_type": "code",
   "execution_count": null,
   "metadata": {
    "collapsed": true
   },
   "outputs": [],
   "source": []
  },
  {
   "cell_type": "code",
   "execution_count": null,
   "metadata": {
    "collapsed": true
   },
   "outputs": [],
   "source": []
  }
 ],
 "metadata": {
  "kernelspec": {
   "display_name": "Python 3",
   "language": "python",
   "name": "python3"
  },
  "language_info": {
   "codemirror_mode": {
    "name": "ipython",
    "version": 3
   },
   "file_extension": ".py",
   "mimetype": "text/x-python",
   "name": "python",
   "nbconvert_exporter": "python",
   "pygments_lexer": "ipython3",
   "version": "3.6.3"
  }
 },
 "nbformat": 4,
 "nbformat_minor": 2
}
